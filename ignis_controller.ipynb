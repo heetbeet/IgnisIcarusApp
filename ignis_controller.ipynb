{
 "cells": [
  {
   "cell_type": "code",
   "execution_count": 3,
   "metadata": {},
   "outputs": [],
   "source": [
    "''' >NUL  2>NUL\n",
    "@echo off\n",
    "cd /d %~dp0\n",
    ":loop\n",
    "python %0 %*\n",
    "goto loop\n",
    "'''\n",
    "\n",
    "import misc; \n",
    "import importlib; importlib.reload(misc)\n",
    "from misc import *\n",
    "from pywintypes import com_error\n",
    "import numpy as np\n",
    "import os"
   ]
  },
  {
   "cell_type": "code",
   "execution_count": 4,
   "metadata": {},
   "outputs": [],
   "source": [
    "if is_interactive():\n",
    "    import os\n",
    "    import subprocess\n",
    "    subprocess.call(['jupyter', 'nbconvert', '--to', 'script', 'ignis_controller.ipynb'])\n",
    "    try:\n",
    "        os.remove('ignis_controller.bat')\n",
    "    except: pass\n",
    "    os.rename('ignis_controller.py', 'ignis_controller.bat')"
   ]
  },
  {
   "cell_type": "code",
   "execution_count": null,
   "metadata": {
    "scrolled": false
   },
   "outputs": [],
   "source": [
    "wb, inputs_sheet, outputs_sheet = get_ignis_spreadsheet()"
   ]
  },
  {
   "cell_type": "code",
   "execution_count": null,
   "metadata": {
    "scrolled": true
   },
   "outputs": [],
   "source": [
    "com_val = \"COM%d\"%(outputs_sheet.Range('B5').Value)\n",
    "ins1, ins2, ins3, ins4, ins5, ins6 = get_instruments(com_val) #add comm number\n",
    "inst = inputs_writer()\n",
    "prev = -9999999\n",
    "prev_save = -9999999\n",
    "\n",
    "ins1_ok = []\n",
    "ins6_ok = []\n",
    "read_ok = []\n",
    "\n",
    "print('Start')\n",
    "try:\n",
    "    last_update = None\n",
    "    \n",
    "    i=-1\n",
    "    while(1):\n",
    "        i+=1\n",
    "        time.sleep(0.02)\n",
    "        try:\n",
    "            \n",
    "            update = outputs_sheet.Range('B3').Value\n",
    "            if update != last_update:\n",
    "                strobe_settings = outputs_sheet.Range('C3:J3').Value[0]\n",
    "                strobes1 = [timeStrober(s) for s in strobe_settings]\n",
    "\n",
    "                strobe_settings = outputs_sheet.Range('M3:T3').Value[0]\n",
    "                strobes2 = [timeStrober(s) for s in strobe_settings]\n",
    "                \n",
    "                last_update = update\n",
    "            \n",
    "            ins1_ok = ins1_ok[-10:]+[write_to_inst(ins1, [s.is_on() for s in strobes1])]\n",
    "            ins6_ok = ins6_ok[-10:]+[write_to_inst(ins6, [s.is_on() for s in strobes2])]\n",
    "            \n",
    "            if(time.time() - prev > 5):\n",
    "                _prev = time.time()\n",
    "                read_ok = read_ok[-3:]+[inst.do_readings(inputs_sheet, ins1, ins2, ins3, ins4, ins5, ins6)]\n",
    "                \n",
    "                if read_ok[-1]:\n",
    "                    prev = _prev\n",
    "                \n",
    "            if(time.time() - prev_save > 60*3):\n",
    "                prev_save = time.time()\n",
    "                wb.Save()\n",
    "                \n",
    "            \n",
    "            if ~np.any(ins1_ok): #not even once in 4 times\n",
    "                raise OSError(\"Can't write to instrument 1.\")\n",
    "            if ~np.any(ins6_ok):\n",
    "                raise OSError(\"Can't write to instrument 6.\")\n",
    "            if ~np.any(read_ok):\n",
    "                raise OSError(\"One instrument can't be read do_readings(self, ...).\")\n",
    "\n",
    "        except com_error:\n",
    "            if i%10 ==0:\n",
    "                print('.', end='\\n' if i%600==0 else '')\n",
    "        #except ValueError:\n",
    "        #    print('\\nValueError occured')\n",
    "\n",
    "except KeyboardInterrupt:\n",
    "    print('\\nStop')\n",
    "    \n",
    "    "
   ]
  }
 ],
 "metadata": {
  "kernelspec": {
   "display_name": "Python 3",
   "language": "python",
   "name": "python3"
  },
  "language_info": {
   "codemirror_mode": {
    "name": "ipython",
    "version": 3
   },
   "file_extension": ".py",
   "mimetype": "text/x-python",
   "name": "python",
   "nbconvert_exporter": "python",
   "pygments_lexer": "ipython3",
   "version": "3.6.4"
  }
 },
 "nbformat": 4,
 "nbformat_minor": 1
}
